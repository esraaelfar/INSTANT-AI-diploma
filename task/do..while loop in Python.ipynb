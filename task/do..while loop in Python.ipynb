{
 "cells": [
  {
   "cell_type": "markdown",
   "id": "b0518c54",
   "metadata": {},
   "source": [
    "How to simulate do..while loop in Python?"
   ]
  },
  {
   "cell_type": "code",
   "execution_count": 1,
   "id": "8c26d0d2",
   "metadata": {},
   "outputs": [
    {
     "name": "stdout",
     "output_type": "stream",
     "text": [
      "Enter a positive number: 1\n",
      "1\n",
      "Enter a positive number: 2\n",
      "2\n",
      "Enter a positive number: 3\n",
      "3\n",
      "Enter a positive number: 4\n",
      "4\n",
      "Enter a positive number: 5\n",
      "5\n",
      "Enter a positive number: 6\n",
      "6\n",
      "Enter a positive number: 7\n",
      "7\n",
      "Enter a positive number: 8\n",
      "8\n",
      "Enter a positive number: 9\n",
      "9\n",
      "Enter a positive number: 0\n",
      "0\n"
     ]
    }
   ],
   "source": [
    "while True:\n",
    "    number = int(input(\"Enter a positive number: \"))\n",
    "    print(number)\n",
    "    if not number > 0:\n",
    "        break"
   ]
  }
 ],
 "metadata": {
  "kernelspec": {
   "display_name": "Python 3 (ipykernel)",
   "language": "python",
   "name": "python3"
  },
  "language_info": {
   "codemirror_mode": {
    "name": "ipython",
    "version": 3
   },
   "file_extension": ".py",
   "mimetype": "text/x-python",
   "name": "python",
   "nbconvert_exporter": "python",
   "pygments_lexer": "ipython3",
   "version": "3.9.7"
  }
 },
 "nbformat": 4,
 "nbformat_minor": 5
}
