{
 "cells": [
  {
   "cell_type": "markdown",
   "id": "759d04ba",
   "metadata": {},
   "source": [
    "**1-Write a Python program to calculate the length of a string using 2 ways"
   ]
  },
  {
   "cell_type": "code",
   "execution_count": null,
   "id": "e434c950",
   "metadata": {},
   "outputs": [],
   "source": [
    "str = input(\"Enter any string :\")\n",
    "print(\"The Length of the string :\",len(str))"
   ]
  },
  {
   "cell_type": "code",
   "execution_count": null,
   "id": "7a2dfa32",
   "metadata": {},
   "outputs": [],
   "source": [
    "def findlen(str):\n",
    "    strlen = 0\n",
    "    for i in str:\n",
    "        strlen+=1\n",
    "    print(\"The Length of the string :\",strlen)\n",
    "str = input(\"Enter any string :\")\n",
    "findlen(str)"
   ]
  },
  {
   "cell_type": "markdown",
   "id": "d7cc9da7",
   "metadata": {},
   "source": [
    "**2-Write a Python program to get a string made of the first 2 and last 2 characters of a given string. If the string length is less than 2, return the empty string instead (\"##Sample String : 'w3resource'\n",
    "Expected Result : 'w3ce'\n",
    "##Sample String : 'w3'\n",
    "Expected Result : 'w3w3'\n",
    "##Sample String : ' w'\n",
    "Expected Result : Empty String)"
   ]
  },
  {
   "cell_type": "code",
   "execution_count": null,
   "id": "dafa9dd8",
   "metadata": {},
   "outputs": [],
   "source": [
    "def strcreate(str):\n",
    "    strcreate =\"\"\n",
    "    if len(str) < 2:\n",
    "        print('Empty String')\n",
    "    else:\n",
    "        for i in str:\n",
    "            strcreate += i\n",
    "            if  len(strcreate)==2:\n",
    "                break\n",
    "        strrev = str[::-1]\n",
    "        strrevcreate =''\n",
    "        for i in strrev:\n",
    "            strrevcreate += i\n",
    "            if  len(strrevcreate)==2:\n",
    "                break\n",
    "        strrevcreate = strrevcreate[::-1]\n",
    "        strcreate +=strrevcreate\n",
    "        print(strcreate)\n",
    "str = input(\"Enter any string :\")\n",
    "strcreate(str)"
   ]
  },
  {
   "cell_type": "markdown",
   "id": "1534f956",
   "metadata": {},
   "source": [
    "**3-Write a Python program to add 'ing' at the end of a given string (length should be at least 3). If the given string already ends with 'ing', add 'ly' instead. If the string length of the given string is less than 3, leave it unchanged. (Sample String : 'abc'\n",
    "Expected Result : 'abcing')"
   ]
  },
  {
   "cell_type": "code",
   "execution_count": null,
   "id": "7ff8cec4",
   "metadata": {},
   "outputs": [],
   "source": [
    "str = input(\"Enter any string :\")\n",
    "matchstr = str[-3:]\n",
    "if len(str) >= 3:\n",
    "    if matchstr == 'ing':\n",
    "        str += 'ly'\n",
    "        print(str)\n",
    "    else:\n",
    "        str += 'ing'\n",
    "        print(str)\n",
    "else:\n",
    "    print(str)\n"
   ]
  },
  {
   "cell_type": "markdown",
   "id": "1c0a6627",
   "metadata": {},
   "source": [
    "**4-Write a Python function that takes a list of words and return the longest word and the length of the longest one\n",
    "(Longest word: Exercises\n",
    "Length of the longest word: 9)"
   ]
  },
  {
   "cell_type": "code",
   "execution_count": null,
   "id": "397341d9",
   "metadata": {},
   "outputs": [],
   "source": [
    "def longword(word_list):\n",
    "    wordlen = []\n",
    "    for i in word_list:\n",
    "        wordlen.append((len(i),i))\n",
    "    wordlen.sort()\n",
    "    return wordlen[-1][0], wordlen[-1][1]\n",
    "\n",
    "word = longword([\"hello\", \"Esraa\", \"Exercises\"])\n",
    " \n",
    "print(\"The longest word is : \",word[1])\n",
    "print(\"The length of the longest word is : \",word[0])"
   ]
  },
  {
   "cell_type": "markdown",
   "id": "53a03a6a",
   "metadata": {},
   "source": [
    "**5-Write a Python program to change a given string to a newly string where the first and last chars have been exchanged using 2 ways (Sample String:abca  Expected Result:ebce)"
   ]
  },
  {
   "cell_type": "code",
   "execution_count": null,
   "id": "fd327d2a",
   "metadata": {},
   "outputs": [],
   "source": [
    "str = input()\n",
    "newstr = ''\n",
    "result = []\n",
    "for i in range(len(str)):\n",
    "    result.append(str[i])\n",
    "fstr = result[-1]\n",
    "lstr = result[0]\n",
    "result.remove(result[0])\n",
    "result.remove(result[-1])\n",
    "for x in result:\n",
    "    newstr += x\n",
    "newstr = fstr  + newstr + lstr\n",
    "print(newstr)"
   ]
  },
  {
   "cell_type": "code",
   "execution_count": null,
   "id": "285788b4",
   "metadata": {},
   "outputs": [],
   "source": [
    "str = input()\n",
    "newstr = str[-1:] + str[1:-1] + str[:1]\n",
    "newstr"
   ]
  },
  {
   "cell_type": "markdown",
   "id": "25f89808",
   "metadata": {},
   "source": [
    "**6-Write a Python program to remove characters that have odd index values in a given string (Sample String:abca Expected Result:ac)"
   ]
  },
  {
   "cell_type": "code",
   "execution_count": null,
   "id": "05959bd7",
   "metadata": {},
   "outputs": [],
   "source": [
    "str = input()\n",
    "newstr = ''\n",
    "for i in range(len(str)):\n",
    "    if i%2 == 0:\n",
    "        newstr += str[i]\n",
    "newstr"
   ]
  },
  {
   "cell_type": "markdown",
   "id": "eb16e898",
   "metadata": {},
   "source": [
    "**7-Write a Python program to count the occurrences of each word in a given sentence (Sample String:amr and ahmed are frindes but amr is the tallest Expected Result:2)"
   ]
  },
  {
   "cell_type": "code",
   "execution_count": null,
   "id": "01ce6cf5",
   "metadata": {},
   "outputs": [],
   "source": [
    "string = \"amr and ahmed are frindes but amr is the tallest\"\n",
    "newstr = string.split(\" \")\n",
    "set_ = set(newstr)\n",
    "for i in set_:\n",
    "    print('the count of', i ,'occurrences is : ',newstr.count(i))   "
   ]
  },
  {
   "cell_type": "markdown",
   "id": "4e8125f1",
   "metadata": {},
   "source": [
    "**8-Write a Python script that takes input from the user and displays that input back in upper and lower cases"
   ]
  },
  {
   "cell_type": "code",
   "execution_count": null,
   "id": "66c8f778",
   "metadata": {},
   "outputs": [],
   "source": [
    "string = input()\n",
    "uppercase = string.upper()\n",
    "lowercase = string.lower()\n",
    "print('the upper case is :',uppercase,'\\n','The lower case is :',lowercase)"
   ]
  },
  {
   "cell_type": "markdown",
   "id": "fcd68aa1",
   "metadata": {},
   "source": [
    "**9-Write a Python function to reverse a string if its length is a multiple of 4"
   ]
  },
  {
   "cell_type": "code",
   "execution_count": null,
   "id": "0671a931",
   "metadata": {},
   "outputs": [],
   "source": [
    "def revstr(string):\n",
    "    if len(string) % 4 == 0:\n",
    "        string = string[::-1]\n",
    "        print(string)\n",
    "string = 'Hello World!'\n",
    "revstr(string)"
   ]
  },
  {
   "cell_type": "markdown",
   "id": "b577c68d",
   "metadata": {},
   "source": [
    "**10- Write a Python program to remove a newline in Python"
   ]
  },
  {
   "cell_type": "code",
   "execution_count": null,
   "id": "e0c6525a",
   "metadata": {},
   "outputs": [],
   "source": [
    "string = 'Hello Esraa \\n Today is a best \\n day'\n",
    "string = string.split(\"\\n \")\n",
    "sentence = ''\n",
    "for i in string:  \n",
    "    sentence += i \n",
    "sentence"
   ]
  },
  {
   "cell_type": "markdown",
   "id": "80db5ae0",
   "metadata": {},
   "source": [
    "**11-Write a Python program to check whether a string starts with specified characters"
   ]
  },
  {
   "cell_type": "code",
   "execution_count": null,
   "id": "0cc4e03e",
   "metadata": {},
   "outputs": [],
   "source": [
    "import re\n",
    "\n",
    "string = '@esraa'\n",
    "if re.findall('^[@_!#$%^&*()<>?/|}{~:]', string):\n",
    "    print('True')\n",
    "else:\n",
    "    print('False')\n"
   ]
  },
  {
   "cell_type": "markdown",
   "id": "593a68db",
   "metadata": {},
   "source": [
    "**12- Write a Python program to add prefix text to all of the lines in a string"
   ]
  },
  {
   "cell_type": "code",
   "execution_count": null,
   "id": "d2e46ada",
   "metadata": {},
   "outputs": [],
   "source": [
    "import textwrap\n",
    "\n",
    "string ='''\n",
    "Python is a widely used high-level, general-purpose, interpreted,\n",
    "dynamic programming language. Its design philosophy emphasizes\n",
    "code readability, and its syntax allows programmers to express\n",
    "concepts in fewer lines of code than possible in languages such\n",
    "as C++ or Java.\n",
    "'''\n",
    "string = textwrap.indent(string,'>> ')\n",
    "print(string)\n"
   ]
  },
  {
   "cell_type": "markdown",
   "id": "86fa1543",
   "metadata": {},
   "source": [
    "\n",
    " **13-Write a Python program to print the following numbers up to 2 decimal places"
   ]
  },
  {
   "cell_type": "code",
   "execution_count": null,
   "id": "cd4a9d89",
   "metadata": {},
   "outputs": [],
   "source": [
    "number = 2.5678\n",
    "print(round(number,2))"
   ]
  },
  {
   "cell_type": "markdown",
   "id": "452c0ab0",
   "metadata": {},
   "source": [
    "**14-Write a Python program to print the following numbers up to 2 decimal places with a sign"
   ]
  },
  {
   "cell_type": "code",
   "execution_count": null,
   "id": "73e82479",
   "metadata": {},
   "outputs": [],
   "source": [
    "number = 2.5678\n",
    "print(\"{:+.2f}\".format(number))"
   ]
  },
  {
   "cell_type": "markdown",
   "id": "32b1811a",
   "metadata": {},
   "source": [
    "**15-Write a Python program to display a number with a comma separator"
   ]
  },
  {
   "cell_type": "code",
   "execution_count": null,
   "id": "f30fc0b6",
   "metadata": {},
   "outputs": [],
   "source": [
    "number = 1000000\n",
    "print(\"{:,}\".format(number))"
   ]
  },
  {
   "cell_type": "markdown",
   "id": "0477f487",
   "metadata": {},
   "source": [
    "**16-Write a Python program to reverse a string using 2 ways"
   ]
  },
  {
   "cell_type": "code",
   "execution_count": null,
   "id": "aa8beec8",
   "metadata": {},
   "outputs": [],
   "source": [
    "string = 'Esraa'\n",
    "string = string[::-1]\n",
    "string"
   ]
  },
  {
   "cell_type": "code",
   "execution_count": null,
   "id": "ac3b2aaf",
   "metadata": {},
   "outputs": [],
   "source": [
    "string = 'Esraa'\n",
    "revstr = ''\n",
    "i = len(string)\n",
    "for x in range(len(string)):\n",
    "    i-=1\n",
    "    revstr += string[i]\n",
    "revstr"
   ]
  },
  {
   "cell_type": "markdown",
   "id": "5afc3166",
   "metadata": {},
   "source": [
    " **17-Write a Python program to count repeated characters in a string (hint:use dictionary)"
   ]
  },
  {
   "cell_type": "code",
   "execution_count": null,
   "id": "515a469c",
   "metadata": {},
   "outputs": [],
   "source": [
    "string = 'Esraa'\n",
    "result = {}\n",
    "for keys in string:\n",
    "    result[keys] = result.get(keys, 0) + 1\n",
    " \n",
    "print(\"Count of all characters in GeeksforGeeks is :\",str(result))"
   ]
  },
  {
   "cell_type": "markdown",
   "id": "ae14e4e5",
   "metadata": {},
   "source": [
    "**18-Write a Python program to find the first non-repeating character in a given string"
   ]
  },
  {
   "cell_type": "code",
   "execution_count": null,
   "id": "d73778e5",
   "metadata": {},
   "outputs": [],
   "source": [
    "string = 'Esraa'\n",
    "fstr = ''\n",
    "for i in string:\n",
    "    if string.count(i) == 1:\n",
    "        fstr += i\n",
    "        print(fstr)\n",
    "        break\n",
    "    "
   ]
  },
  {
   "cell_type": "markdown",
   "id": "3adf5669",
   "metadata": {},
   "source": [
    "**19-Write a Python program to remove spaces from a given string"
   ]
  },
  {
   "cell_type": "code",
   "execution_count": null,
   "id": "b4f22602",
   "metadata": {},
   "outputs": [],
   "source": [
    "string = 'Hello Esraa Today is a best day'\n",
    "string = string.split(\" \")\n",
    "sentence = ''\n",
    "for i in string:  \n",
    "    sentence += i \n",
    "sentence"
   ]
  },
  {
   "cell_type": "markdown",
   "id": "734de60c",
   "metadata": {},
   "source": [
    "**20-Write a Python program to count the number of non-empty substrings of a given string"
   ]
  },
  {
   "cell_type": "code",
   "execution_count": null,
   "id": "ef3f2274",
   "metadata": {},
   "outputs": [],
   "source": [
    "string = 'Esraa'\n",
    "print(int(len(string) * (len(string) + 1) / 2))"
   ]
  },
  {
   "cell_type": "markdown",
   "id": "509998e2",
   "metadata": {},
   "source": [
    "**21-write a Python program to swap first and last element of any list."
   ]
  },
  {
   "cell_type": "code",
   "execution_count": null,
   "id": "68692d7f",
   "metadata": {},
   "outputs": [],
   "source": [
    "l = ['Esraa','Hana','Mohamed','Yehia']\n",
    "fl = l[0]\n",
    "ll = l[-1]\n",
    "l.pop()\n",
    "l.remove(l[0])\n",
    "l.append(fl)\n",
    "l.insert(0,ll)\n",
    "l"
   ]
  },
  {
   "cell_type": "markdown",
   "id": "959e0837",
   "metadata": {},
   "source": [
    "**22-Given a list in Python and provided the positions of the elements, write a program to swap the two elements in the list. (Input : List = [23, 65, 19, 90], pos1 = 1, pos2 = 3\n",
    "Output : [19, 65, 23, 90])"
   ]
  },
  {
   "cell_type": "code",
   "execution_count": null,
   "id": "225d8c6d",
   "metadata": {},
   "outputs": [],
   "source": [
    "def swapPositions(list, pos1, pos2):\n",
    "    list[pos1], list[pos2] = list[pos2], list[pos1]\n",
    "    return list\n",
    " \n",
    "List = [23, 65, 19, 90]\n",
    "pos1, pos2  = 1, 3\n",
    " \n",
    "print(swapPositions(List, pos1-1, pos2-1))"
   ]
  },
  {
   "cell_type": "markdown",
   "id": "66fc6682",
   "metadata": {},
   "source": [
    "**23- search for the all ways to know the length of the list"
   ]
  },
  {
   "cell_type": "code",
   "execution_count": null,
   "id": "037487f7",
   "metadata": {},
   "outputs": [],
   "source": [
    "l = [10, 20, 30]\n",
    "print(\"The length of list is: \", len(l))"
   ]
  },
  {
   "cell_type": "code",
   "execution_count": null,
   "id": "6d8cbc73",
   "metadata": {},
   "outputs": [],
   "source": [
    "test_list = [1, 4, 5, 7, 8]\n",
    "print(\"The list is : \" + str(test_list))\n",
    "\n",
    "counter = 0\n",
    "for i in test_list:\n",
    "    counter = counter + 1\n",
    "\n",
    "print(\"Length of list using naive method is : \" + str(counter))"
   ]
  },
  {
   "cell_type": "code",
   "execution_count": null,
   "id": "a7769541",
   "metadata": {},
   "outputs": [],
   "source": [
    "from operator import length_hint\n",
    " \n",
    "test_list = [1, 4, 5, 7, 8]\n",
    " \n",
    "print(\"The list is : \" + str(test_list))\n",
    " \n",
    "list_len = len(test_list)\n",
    " \n",
    "list_len_hint = length_hint(test_list)\n",
    " \n",
    "print(\"Length of list is : \" + str(list_len_hint))"
   ]
  },
  {
   "cell_type": "code",
   "execution_count": null,
   "id": "ac9f45cc",
   "metadata": {},
   "outputs": [],
   "source": [
    "test_list = [1, 4, 5, 7, 8]\n",
    "\n",
    "length = sum(1 for _ in test_list)\n",
    " \n",
    "print(\"Length of list using list comprehension is:\", length)"
   ]
  },
  {
   "cell_type": "code",
   "execution_count": null,
   "id": "0479f95b",
   "metadata": {},
   "outputs": [],
   "source": [
    "def count_elements_recursion(lst):\n",
    "    if not lst:\n",
    "        return 0\n",
    "    return 1 + count_elements_recursion(lst[1:])\n",
    " \n",
    "lst = [1, 2, 3, 4, 5]\n",
    "print(\"The length of the list is:\", count_elements_recursion(lst))"
   ]
  },
  {
   "cell_type": "code",
   "execution_count": null,
   "id": "94b2eb43",
   "metadata": {},
   "outputs": [],
   "source": [
    "list1 = [1, 4, 5, 7, 8]\n",
    "s = 0\n",
    "for i, a in enumerate(list1):\n",
    "    s += 1\n",
    "print(s)"
   ]
  },
  {
   "cell_type": "code",
   "execution_count": null,
   "id": "242f8d70",
   "metadata": {},
   "outputs": [],
   "source": [
    "from collections import Counter\n",
    "\n",
    "test_list = [1, 4, 5, 7, 8]\n",
    "list_len = sum(Counter(test_list).values())\n",
    " \n",
    "print(\"Length of list using Counter() is:\", list_len)"
   ]
  },
  {
   "cell_type": "code",
   "execution_count": null,
   "id": "1ff6d330",
   "metadata": {},
   "outputs": [],
   "source": [
    "from operator import length_hint\n",
    "import time\n",
    "\n",
    "test_list = [1, 4, 5, 7, 8]\n",
    "\n",
    "print(\"The list is : \" + str(test_list))\n",
    "\n",
    "start_time_naive = time.time()\n",
    "counter = 0\n",
    "for i in test_list:\n",
    "    counter = counter + 1\n",
    "end_time_naive = str(time.time() - start_time_naive)\n",
    "\n",
    "start_time_len = time.time()\n",
    "list_len = len(test_list)\n",
    "end_time_len = str(time.time() - start_time_len)\n",
    "\n",
    "start_time_hint = time.time()\n",
    "list_len_hint = length_hint(test_list)\n",
    "end_time_hint = str(time.time() - start_time_hint)\n",
    "\n",
    "print(\"Time taken using naive method is : \" + end_time_naive)\n",
    "print(\"Time taken using len() is : \" + end_time_len)\n",
    "print(\"Time taken using length_hint() is : \" + end_time_hint)"
   ]
  },
  {
   "cell_type": "markdown",
   "id": "0f305e02",
   "metadata": {},
   "source": [
    "**24-write a Python code to find the Maximum number of list of numbers."
   ]
  },
  {
   "cell_type": "code",
   "execution_count": null,
   "id": "15f342de",
   "metadata": {},
   "outputs": [],
   "source": [
    "l = [5,6,8,9,10,4,1]\n",
    "l.sort()\n",
    "print(\"The Maximum number of list : \",l[-1])"
   ]
  },
  {
   "cell_type": "markdown",
   "id": "f2facab2",
   "metadata": {},
   "source": [
    "**25-write a Python code to find the Minimum number of list of numbers."
   ]
  },
  {
   "cell_type": "code",
   "execution_count": null,
   "id": "21f8cbd6",
   "metadata": {},
   "outputs": [],
   "source": [
    "l = [5,6,8,9,10,4,1]\n",
    "l.sort()\n",
    "print(\"The Minimum number of list : \",l[0])"
   ]
  },
  {
   "cell_type": "markdown",
   "id": "96822d96",
   "metadata": {},
   "source": [
    "**26-search for if an elem is existing in list"
   ]
  },
  {
   "cell_type": "code",
   "execution_count": null,
   "id": "51ca5c9a",
   "metadata": {},
   "outputs": [],
   "source": [
    "l = ['Esraa','Hana','Mohamed','Yehia']\n",
    "if 'Mohamed' in l:\n",
    "    print('Element exist')\n",
    "else:\n",
    "    print('Element not exist')"
   ]
  },
  {
   "cell_type": "markdown",
   "id": "d9557da7",
   "metadata": {},
   "source": [
    "**27- clear python list using different ways"
   ]
  },
  {
   "cell_type": "code",
   "execution_count": null,
   "id": "b69858a3",
   "metadata": {},
   "outputs": [],
   "source": [
    "l = ['Esraa','Hana','Mohamed','Yehia']\n",
    "del l"
   ]
  },
  {
   "cell_type": "code",
   "execution_count": null,
   "id": "99de9558",
   "metadata": {},
   "outputs": [],
   "source": [
    "l = ['Esraa','Hana','Mohamed','Yehia']\n",
    "l.clear()\n",
    "l"
   ]
  },
  {
   "cell_type": "markdown",
   "id": "52160e88",
   "metadata": {},
   "source": [
    "**28-remove duplicated elements from a list"
   ]
  },
  {
   "cell_type": "code",
   "execution_count": null,
   "id": "5e362228",
   "metadata": {},
   "outputs": [],
   "source": [
    "l = ['Esraa','Hana','Mohamed','Yehia','Mohamed']\n",
    "set_ = set(l)\n",
    "list(set_)"
   ]
  },
  {
   "cell_type": "markdown",
   "id": "282337f7",
   "metadata": {},
   "source": [
    "**29-Given list values and keys list, convert these values to key value pairs in form of list of dictionaries. (Input : test_list = [“Gfg”, 3, “is”, 8], key_list = [“name”, “id”]\n",
    "Output : [{‘name’: ‘Gfg’, ‘id’: 3}, {‘name’: ‘is’, ‘id’: 8}])"
   ]
  },
  {
   "cell_type": "code",
   "execution_count": null,
   "id": "4d4e2d28",
   "metadata": {},
   "outputs": [],
   "source": [
    "test_list = [\"Gfg\", 3, \"is\", 8]\n",
    "key_list = [\"name\", \"id\"] \n",
    "res = []\n",
    "for i in range(0, len(test_list) , 2):\n",
    "    res.append({key_list[0]: test_list[i], key_list[1] : test_list[i+1]})\n",
    "\n",
    "print(\"The constructed dictionary list : \" , str(res))"
   ]
  },
  {
   "cell_type": "markdown",
   "id": "c26b6e9f",
   "metadata": {},
   "source": [
    "**30-write a python program to count unique values inside a list using different ways"
   ]
  },
  {
   "cell_type": "code",
   "execution_count": 83,
   "id": "72132667",
   "metadata": {},
   "outputs": [
    {
     "data": {
      "text/plain": [
       "4"
      ]
     },
     "execution_count": 83,
     "metadata": {},
     "output_type": "execute_result"
    }
   ],
   "source": [
    "l = ['Esraa','Hana','Mohamed','Yehia','Mohamed']\n",
    "set_ = set(l)\n",
    "l = list(set_)\n",
    "len(set_)"
   ]
  },
  {
   "cell_type": "code",
   "execution_count": 84,
   "id": "bcb2c954",
   "metadata": {},
   "outputs": [
    {
     "data": {
      "text/plain": [
       "3"
      ]
     },
     "execution_count": 84,
     "metadata": {},
     "output_type": "execute_result"
    }
   ],
   "source": [
    "l = ['Esraa','Hana','Mohamed','Yehia','Mohamed']\n",
    "newl = []\n",
    "for i in l:\n",
    "    if l.count(i) > 1:\n",
    "        continue\n",
    "    newl.append(i)\n",
    "len(newl)"
   ]
  },
  {
   "cell_type": "markdown",
   "id": "fed6677c",
   "metadata": {},
   "source": [
    "**31-write a python program Extract all elements with Frequency greater than K (Input : test_list = [4, 6, 4, 3, 3, 4, 3, 4, 3, 8], K = 3 \n",
    "Output : [4, 3] )"
   ]
  },
  {
   "cell_type": "code",
   "execution_count": null,
   "id": "d81f3f9d",
   "metadata": {},
   "outputs": [],
   "source": [
    "test_list = [4, 6, 4, 3, 3, 4, 3, 4, 3, 8]\n",
    "k = 3\n",
    "l = []\n",
    "for i in test_list:\n",
    "    if test_list.count(i) > k:\n",
    "        if i in l:\n",
    "            continue\n",
    "        else:\n",
    "            l.append(i)\n",
    "l"
   ]
  },
  {
   "cell_type": "markdown",
   "id": "caca5224",
   "metadata": {},
   "source": [
    "**32-write a python program to find the Strongest Neighbour (Input: 1 2 2 3 4 5\n",
    "Output: 2 2 3 4 5)"
   ]
  },
  {
   "cell_type": "code",
   "execution_count": null,
   "id": "39fbd9b2",
   "metadata": {},
   "outputs": [],
   "source": [
    "l = [1,2,3,4,5]\n",
    "newl = []\n",
    "for i in range(1,len(l)):\n",
    "    if l[i] > l[i-1]:\n",
    "        newl.append(l[i])\n",
    "    else:\n",
    "        newl.append(l[i-1])\n",
    "newl"
   ]
  },
  {
   "cell_type": "markdown",
   "id": "a9fa8baf",
   "metadata": {},
   "source": [
    "**33-write a Python Program to print all Possible Combinations from the three Digits (Input: [1, 2, 3]\n",
    "Output:\n",
    "1 2 3 ##\n",
    "1 3 2 ##\n",
    "2 1 3 ##\n",
    "2 3 1 ##\n",
    "3 1 2 ##\n",
    "3 2 1)"
   ]
  },
  {
   "cell_type": "code",
   "execution_count": null,
   "id": "8c520a76",
   "metadata": {},
   "outputs": [],
   "source": [
    "l = [1,2,3]\n",
    "for i in range(len(l)): \n",
    "    for j in range(len(l)): \n",
    "        for k in range(len(l)): \n",
    "            if (i!=j and j!=k and i!=k): \n",
    "                print(l[i], l[j], l[k]) "
   ]
  },
  {
   "cell_type": "markdown",
   "id": "5288bb89",
   "metadata": {},
   "source": [
    "**34-write a Python program to find all the Combinations in the list with the given condition (Input: test_list = [1,2,3] \n",
    "Output: \n",
    " [1], [1, 2], [1, 2, 3], [1, 3]\n",
    " [2], [2, 3], [3])"
   ]
  },
  {
   "cell_type": "code",
   "execution_count": 82,
   "id": "59b89646",
   "metadata": {},
   "outputs": [
    {
     "name": "stdout",
     "output_type": "stream",
     "text": [
      "[1]\n",
      "[1, 2]\n",
      "[1, 2, 3]\n",
      "[1, 3]\n",
      "[1, 3, 2]\n",
      "[2]\n",
      "[2, 1]\n",
      "[2, 1, 3]\n",
      "[2, 3]\n",
      "[2, 3, 1]\n",
      "[3]\n",
      "[3, 1]\n",
      "[3, 1, 2]\n",
      "[3, 2]\n",
      "[3, 2, 1]\n"
     ]
    }
   ],
   "source": [
    "test_list = [1,2,3] \n",
    "l = []\n",
    "for i in range(len(test_list)): \n",
    "    l.extend([test_list[i]])\n",
    "    print(l)\n",
    "    l.clear()\n",
    "    for j in range(len(test_list)): \n",
    "        if (i!=j): \n",
    "            l.extend([test_list[i], test_list[j]])\n",
    "            print(l)\n",
    "            l.clear()\n",
    "        for k in range(len(test_list)): \n",
    "            if (i!=j and j!=k and i!=k): \n",
    "                l.extend([test_list[i], test_list[j], test_list[k]])\n",
    "                print(l)\n",
    "                l.clear()"
   ]
  },
  {
   "cell_type": "markdown",
   "id": "39973705",
   "metadata": {},
   "source": [
    "**35-write a Python program to get all unique combinations of two Lists (List_1 = [\"a\",\"b\"]\n",
    "List_2 = [1,2]\n",
    "Unique_combination = [[('a',1),('b',2)],[('a',2),('b',1)]] )"
   ]
  },
  {
   "cell_type": "code",
   "execution_count": 86,
   "id": "8c4ba22b",
   "metadata": {},
   "outputs": [
    {
     "name": "stdout",
     "output_type": "stream",
     "text": [
      "[('a', 1), ('a', 2), ('b', 1), ('b', 2)]\n"
     ]
    }
   ],
   "source": [
    "List_1 = [\"a\",\"b\"]\n",
    "List_2 = [1,2]\n",
    " \n",
    "unique_combinations = []\n",
    " \n",
    "for i in range(len(List_1)):\n",
    "    for j in range(len(List_2)):\n",
    "        unique_combinations.append((List_1[i], List_2[j]))\n",
    " \n",
    "print(unique_combinations)"
   ]
  },
  {
   "cell_type": "markdown",
   "id": "25199af5",
   "metadata": {},
   "source": [
    "**36-Remove all the occurrences of an element from a list in Python (Input : 1 1 2 3 4 5 1 2 1 \n",
    "\n",
    "**Output : 2 3 4 5 2)"
   ]
  },
  {
   "cell_type": "code",
   "execution_count": 59,
   "id": "6dc4c2ba",
   "metadata": {},
   "outputs": [
    {
     "name": "stdout",
     "output_type": "stream",
     "text": [
      "[2, 3, 4, 5, 2]\n"
     ]
    }
   ],
   "source": [
    "def removing_elements(my_list, element): \n",
    "   element_count = my_list.count(element)\n",
    "   for i in range(element_count):\n",
    "      my_list.remove(element)\n",
    "   return my_list\n",
    "l = [1,1,2,3,4,5,1,2,1]\n",
    "element = 1\n",
    "for i in l:\n",
    "    if i == element:\n",
    "        l.remove(i)\n",
    "print(removing_elements(l, element))"
   ]
  },
  {
   "cell_type": "markdown",
   "id": "bf1a3c93",
   "metadata": {},
   "source": [
    "**37-write a python program to Replace index elements with elements in Other List (The original list 1 is : [‘Gfg’, ‘is’, ‘best’] The original list 2 is : [0, 1, 2, 1, 0, 0, 0, 2, 1, 1, 2, 0] The lists after index elements replacements is : [‘Gfg’, ‘is’, ‘best’, ‘is’, ‘Gfg’, ‘Gfg’, ‘Gfg’, ‘best’, ‘is’, ‘is’, ‘best’, ‘Gfg’])"
   ]
  },
  {
   "cell_type": "code",
   "execution_count": 100,
   "id": "fdd66a71",
   "metadata": {},
   "outputs": [
    {
     "data": {
      "text/plain": [
       "['Gfg',\n",
       " 'is',\n",
       " 'best',\n",
       " 'is',\n",
       " 'Gfg',\n",
       " 'Gfg',\n",
       " 'Gfg',\n",
       " 'best',\n",
       " 'is',\n",
       " 'is',\n",
       " 'best',\n",
       " 'Gfg']"
      ]
     },
     "execution_count": 100,
     "metadata": {},
     "output_type": "execute_result"
    }
   ],
   "source": [
    "l1 =  ['Gfg', 'is', 'best']\n",
    "l2 =  [0, 1, 2, 1, 0, 0, 0, 2, 1, 1, 2, 0] \n",
    "res = []\n",
    "for i in l2:\n",
    "    res.append(l1[i])\n",
    "res"
   ]
  },
  {
   "cell_type": "markdown",
   "id": "af0f56e8",
   "metadata": {},
   "source": [
    "**38- write python program to Retain records with N occurrences of K(Input : test_list = [(4, 5, 5, 4), (5, 4, 3)], K = 5, N = 2 \n",
    "Output : [(4, 5, 5, 4)]\n",
    "Input : test_list = [(4, 5, 5, 4), (5, 4, 3)], K = 5, N = 3 \n",
    "Output : [] )"
   ]
  },
  {
   "cell_type": "code",
   "execution_count": 58,
   "id": "67b06671",
   "metadata": {},
   "outputs": [
    {
     "name": "stdout",
     "output_type": "stream",
     "text": [
      "[(4, 5, 5, 4)]\n",
      "[]\n"
     ]
    }
   ],
   "source": [
    "def numofk(test_list,k,n):\n",
    "    result = []\n",
    "    for i in test_list:  \n",
    "        if i.count(K) == N:\n",
    "            result.append(i)\n",
    "        else:\n",
    "            continue\n",
    "    return result\n",
    "test_list = [(4, 5, 5, 4), (5, 4, 3)]\n",
    "K = 5\n",
    "N = 2\n",
    "print(numofk(test_list,K,N))\n",
    "test_list = [(4, 5, 5, 4), (5, 4, 3)]\n",
    "K = 5\n",
    "N = 3\n",
    "print(numofk(test_list,K,N))"
   ]
  },
  {
   "cell_type": "markdown",
   "id": "de76f183",
   "metadata": {},
   "source": [
    "**39-write a Python Program to Sort the list according to the column using lambda\n",
    "array = [[1, 3, 3], [2, 1, 2], [3, 2, 1]]\n",
    "Output :\n",
    "Sorted array specific to column 0, [[1, 3, 3], [2, 1, 2], [3, 2, 1]]\n",
    "Sorted array specific to column 1, [[2, 1, 2], [3, 2, 1], [1, 3, 3]]\n",
    "Sorted array specific to column 2, [[3, 2, 1], [2, 1, 2], [1, 3, 3]]"
   ]
  },
  {
   "cell_type": "code",
   "execution_count": 109,
   "id": "dc883308",
   "metadata": {},
   "outputs": [
    {
     "name": "stdout",
     "output_type": "stream",
     "text": [
      "Original list:\n",
      "[[1, 3, 3], [2, 1, 2], [3, 2, 1]]\n",
      "\n",
      "Sort the list of lists by length and value:\n",
      "[[1, 3, 3], [2, 1, 2], [3, 2, 1]]\n"
     ]
    }
   ],
   "source": [
    "def sort_sublists(input_list):\n",
    "    result = sorted(input_list, key=lambda l: (len(l), l))\n",
    "    \n",
    "    return result\n",
    "\n",
    "list1 = [[1, 3, 3], [2, 1, 2], [3, 2, 1]] \n",
    "\n",
    "print(\"Original list:\")\n",
    "print(list1)\n",
    "\n",
    "print(\"\\nSort the list of lists by length and value:\")\n",
    "print(sort_sublists(list1))"
   ]
  },
  {
   "cell_type": "markdown",
   "id": "11f00674",
   "metadata": {},
   "source": [
    "**40- write a program to Sort Python Dictionaries by Key or Value\n",
    "Input:\n",
    "{'ravi': 10, 'rajnish': 9, 'sanjeev': 15, 'yash': 2, 'suraj': 32}\n",
    "\n",
    "Output: \n",
    "{'rajnish': 9, 'ravi': 10, 'sanjeev': 15, 'suraj': 32, 'yash': 2}"
   ]
  },
  {
   "cell_type": "code",
   "execution_count": 106,
   "id": "a96db4a0",
   "metadata": {},
   "outputs": [
    {
     "name": "stdout",
     "output_type": "stream",
     "text": [
      "rajnish: 9\n",
      "ravi: 10\n",
      "sanjeev: 15\n",
      "suraj: 32\n",
      "yash: 2\n",
      "{'rajnish': 9, 'ravi': 10, 'sanjeev': 15, 'suraj': 32, 'yash': 2}\n"
     ]
    }
   ],
   "source": [
    "dic =  {'ravi': 10, 'rajnish': 9, 'sanjeev': 15, 'yash': 2, 'suraj': 32}\n",
    "for key in sorted(dic):\n",
    "    print(\"%s: %s\" % (key, dic[key]))\n",
    "sorted_dic = sorted(dic.items(), key=lambda x:x[1])\n",
    "print(dict(sorted_dic))"
   ]
  },
  {
   "cell_type": "markdown",
   "id": "ec63c23a",
   "metadata": {},
   "source": [
    "**41-write python program to Remove keys with Values Greater than K ( Including mixed values )\n",
    "nput : test_dict = {‘Gfg’ : 3, ‘is’ : 7, ‘best’ : 10, ‘for’ : 6, ‘geeks’ : ‘CS’},\n",
    "K = 7 \n",
    "Output : {‘Gfg’ : 3, ‘for’ : 6, ‘geeks’ : ‘CS’}"
   ]
  },
  {
   "cell_type": "code",
   "execution_count": 17,
   "id": "e39c3a40",
   "metadata": {},
   "outputs": [
    {
     "data": {
      "text/plain": [
       "{'Gfg': 3, 'for': 6, 'geeks': 'CS'}"
      ]
     },
     "execution_count": 17,
     "metadata": {},
     "output_type": "execute_result"
    }
   ],
   "source": [
    "test_dict = {'Gfg' : 3, 'is' : 7, 'best' : 10, 'for' : 6, 'geeks' : 'CS'}\n",
    "K = 7  \n",
    "l = []\n",
    "for key in test_dict:\n",
    "    if type(test_dict[key]) == int: \n",
    "        if test_dict[key] >= 7:\n",
    "            l.append(key)\n",
    "for i in l:\n",
    "    test_dict.pop(i)\n",
    "test_dict"
   ]
  },
  {
   "cell_type": "markdown",
   "id": "f143f0fe",
   "metadata": {},
   "source": [
    "**42-Write a Python program to concatenate the following dictionaries to create a new one\n",
    "\n",
    "Sample Dictionary :\n",
    "dic1={1:10, 2:20}\n",
    "dic2={3:30, 4:40}\n",
    "dic3={5:50,6:60}\n",
    "Expected Result : {1: 10, 2: 20, 3: 30, 4: 40, 5: 50, 6: 60}"
   ]
  },
  {
   "cell_type": "code",
   "execution_count": 4,
   "id": "74ffdfea",
   "metadata": {},
   "outputs": [
    {
     "data": {
      "text/plain": [
       "{1: 10, 2: 20, 3: 30, 4: 40, 5: 50, 6: 60}"
      ]
     },
     "execution_count": 4,
     "metadata": {},
     "output_type": "execute_result"
    }
   ],
   "source": [
    "dic1={1:10, 2:20}\n",
    "dic2={3:30, 4:40}\n",
    "dic3={5:50,6:60}\n",
    "dic1.update(dic2)\n",
    "dic1.update(dic3)\n",
    "dic1"
   ]
  },
  {
   "cell_type": "markdown",
   "id": "fb04c93c",
   "metadata": {},
   "source": [
    "**43-Write a Python program to iterate over dictionaries using for loops"
   ]
  },
  {
   "cell_type": "code",
   "execution_count": 10,
   "id": "6aebc470",
   "metadata": {},
   "outputs": [
    {
     "name": "stdout",
     "output_type": "stream",
     "text": [
      "key :  a  value :  1\n",
      "key :  b  value :  2\n",
      "key :  c  value :  3\n",
      "key :  d  value :  4\n"
     ]
    }
   ],
   "source": [
    "d = {'a': 1, 'b': 2, 'c': 3, 'd': 4}\n",
    "for key in d:\n",
    "    print('key : ',key,' value : ',d[key])"
   ]
  },
  {
   "cell_type": "markdown",
   "id": "5f491a9d",
   "metadata": {},
   "source": [
    "**44- Write a Python script to merge two Python dictionaries"
   ]
  },
  {
   "cell_type": "code",
   "execution_count": 7,
   "id": "b8a14028",
   "metadata": {},
   "outputs": [
    {
     "data": {
      "text/plain": [
       "{'a': 1, 'b': 2, 'c': 3, 'd': 4}"
      ]
     },
     "execution_count": 7,
     "metadata": {},
     "output_type": "execute_result"
    }
   ],
   "source": [
    "d1 = {'a': 1,'b':2}\n",
    "d2 = {'c': 3,'d':4}\n",
    "d1.update(d2)\n",
    "d1"
   ]
  },
  {
   "cell_type": "markdown",
   "id": "216fc72d",
   "metadata": {},
   "source": [
    "**45-Write a Python program to get the maximum and minimum values of a dictionary values"
   ]
  },
  {
   "cell_type": "code",
   "execution_count": 7,
   "id": "d6883f5f",
   "metadata": {},
   "outputs": [
    {
     "name": "stdout",
     "output_type": "stream",
     "text": [
      "7\n",
      "1\n"
     ]
    }
   ],
   "source": [
    "d = {'a':1,'b':7,'c':5,'d':3}\n",
    "value = d.values()\n",
    "print(max(value))\n",
    "print(min(value))"
   ]
  },
  {
   "cell_type": "markdown",
   "id": "b6a53011",
   "metadata": {},
   "source": [
    "**46- Write a Python program to drop empty items from a given dictionary.\n",
    "Original Dictionary:\n",
    "{'c1': 'Red', 'c2': 'Green', 'c3': None}\n",
    "New Dictionary after dropping empty items:\n",
    "{'c1': 'Red', 'c2': 'Green'}"
   ]
  },
  {
   "cell_type": "code",
   "execution_count": 12,
   "id": "b5c6fecf",
   "metadata": {},
   "outputs": [
    {
     "data": {
      "text/plain": [
       "{'c1': 'Red', 'c2': 'Green'}"
      ]
     },
     "execution_count": 12,
     "metadata": {},
     "output_type": "execute_result"
    }
   ],
   "source": [
    "test_dict = {'c1': 'Red', 'c2': 'Green', 'c3': None} \n",
    "l = []\n",
    "for key in test_dict:\n",
    "    if test_dict[key] == None:\n",
    "        l.append(key)\n",
    "for i in l:\n",
    "    test_dict.pop(i)\n",
    "test_dict"
   ]
  },
  {
   "cell_type": "markdown",
   "id": "46d718c7",
   "metadata": {},
   "source": [
    "**47-Write a Python program to create a tuple of numbers and print one item"
   ]
  },
  {
   "cell_type": "code",
   "execution_count": 8,
   "id": "13216ff5",
   "metadata": {},
   "outputs": [
    {
     "name": "stdout",
     "output_type": "stream",
     "text": [
      "1\n",
      "2\n",
      "4\n",
      "5\n",
      "7\n",
      "8\n",
      "9\n"
     ]
    }
   ],
   "source": [
    "t = (1,2,4,5,7,8,9)\n",
    "for i in t:\n",
    "    print(i)"
   ]
  },
  {
   "cell_type": "markdown",
   "id": "2be5b56b",
   "metadata": {},
   "source": [
    "**48-Write a Python program to unpack a tuple into several variables"
   ]
  },
  {
   "cell_type": "code",
   "execution_count": 48,
   "id": "595f44be",
   "metadata": {},
   "outputs": [
    {
     "name": "stdout",
     "output_type": "stream",
     "text": [
      "a: 1 b: 2 c: 3\n"
     ]
    }
   ],
   "source": [
    "t = (1,2,3)\n",
    "a , b , c = t\n",
    "print('a:',a,'b:',b,'c:',c)"
   ]
  },
  {
   "cell_type": "markdown",
   "id": "392388a7",
   "metadata": {},
   "source": [
    "**49-Write a Python program to add an item to a tuple"
   ]
  },
  {
   "cell_type": "code",
   "execution_count": 46,
   "id": "54cc092e",
   "metadata": {},
   "outputs": [
    {
     "data": {
      "text/plain": [
       "(1, 2, 3, 10)"
      ]
     },
     "execution_count": 46,
     "metadata": {},
     "output_type": "execute_result"
    }
   ],
   "source": [
    "t = (1,2,3)\n",
    "element = 10\n",
    "t += (element,)\n",
    "t"
   ]
  },
  {
   "cell_type": "markdown",
   "id": "3e8fd124",
   "metadata": {},
   "source": [
    "**50-Write a Python program to convert a tuple to a string"
   ]
  },
  {
   "cell_type": "code",
   "execution_count": 1,
   "id": "92a71ddc",
   "metadata": {},
   "outputs": [
    {
     "data": {
      "text/plain": [
       "'Esraa123'"
      ]
     },
     "execution_count": 1,
     "metadata": {},
     "output_type": "execute_result"
    }
   ],
   "source": [
    "t = ('E','s','r','a','a',1,2,3)\n",
    "str = ''.join(map(str, t))\n",
    "str"
   ]
  },
  {
   "cell_type": "markdown",
   "id": "f4f64ef4",
   "metadata": {},
   "source": [
    "**51-Write a Python program to convert a list to a tuple"
   ]
  },
  {
   "cell_type": "code",
   "execution_count": 2,
   "id": "210d56d3",
   "metadata": {},
   "outputs": [
    {
     "data": {
      "text/plain": [
       "(1, 2, 3)"
      ]
     },
     "execution_count": 2,
     "metadata": {},
     "output_type": "execute_result"
    }
   ],
   "source": [
    "l = [1,2,3]\n",
    "tuple(l)"
   ]
  },
  {
   "cell_type": "markdown",
   "id": "b1e00ef7",
   "metadata": {},
   "source": [
    "**52-Write a Python program to reverse a tuple"
   ]
  },
  {
   "cell_type": "code",
   "execution_count": 20,
   "id": "f45bfdc7",
   "metadata": {},
   "outputs": [
    {
     "data": {
      "text/plain": [
       "(3, 2, 1)"
      ]
     },
     "execution_count": 20,
     "metadata": {},
     "output_type": "execute_result"
    }
   ],
   "source": [
    "t = (1,2,3)\n",
    "lent = len(t)\n",
    "newt = ()\n",
    "for i in t:\n",
    "    newt+= (lent,)\n",
    "    lent-=1\n",
    "newt"
   ]
  },
  {
   "cell_type": "markdown",
   "id": "3cd347d1",
   "metadata": {},
   "source": [
    "**53-Write a Python program to replace the last value of tuples in a list.\n",
    "Sample list: [(10, 20, 40), (40, 50, 60), (70, 80, 90)]\n",
    "Expected Output: [(10, 20, 100), (40, 50, 100), (70, 80, 100)]"
   ]
  },
  {
   "cell_type": "code",
   "execution_count": 44,
   "id": "3c4a2a4c",
   "metadata": {},
   "outputs": [
    {
     "data": {
      "text/plain": [
       "[(10, 20, 100), (40, 50, 100), (70, 80, 100)]"
      ]
     },
     "execution_count": 44,
     "metadata": {},
     "output_type": "execute_result"
    }
   ],
   "source": [
    "l = [(10, 20, 40), (40, 50, 60), (70, 80, 90)] \n",
    "element = 100\n",
    "newl = []\n",
    "result = []\n",
    "for i in l:\n",
    "    newl.clear()\n",
    "    newl.extend(i)\n",
    "    for j in range(0,len(i)):\n",
    "        if j == len(i)-1:\n",
    "            newl.pop()\n",
    "            newl.append(element)\n",
    "            i = tuple(newl)\n",
    "            result.append(i)\n",
    "        else:\n",
    "            continue\n",
    "result"
   ]
  },
  {
   "cell_type": "markdown",
   "id": "76bb7b39",
   "metadata": {},
   "source": [
    "**54-Write a Python program to convert a given string list to a tuple\n",
    "Original string: python 3.0\n",
    "<class 'str'>\n",
    "Convert the said string to a tuple:\n",
    "('p', 'y', 't', 'h', 'o', 'n', '3', '.', '0')"
   ]
  },
  {
   "cell_type": "code",
   "execution_count": 123,
   "id": "51951937",
   "metadata": {},
   "outputs": [
    {
     "data": {
      "text/plain": [
       "('p', 'y', 't', 'h', 'o', 'n', '3', '.', '0')"
      ]
     },
     "execution_count": 123,
     "metadata": {},
     "output_type": "execute_result"
    }
   ],
   "source": [
    "string = 'python 3.0'\n",
    "string = string.replace(' ','')\n",
    "l = list(string)\n",
    "tuple(l)"
   ]
  },
  {
   "cell_type": "markdown",
   "id": "5a1d5d97",
   "metadata": {},
   "source": [
    "**55-Write a Python program to calculate the average value of the numbers in a given tuple of tuples"
   ]
  },
  {
   "cell_type": "code",
   "execution_count": 126,
   "id": "834e7992",
   "metadata": {},
   "outputs": [
    {
     "data": {
      "text/plain": [
       "4.6"
      ]
     },
     "execution_count": 126,
     "metadata": {},
     "output_type": "execute_result"
    }
   ],
   "source": [
    "t = (1,2,5,7,8)\n",
    "s = 0\n",
    "for i in t:\n",
    "    s += i\n",
    "avg = s/len(t)\n",
    "avg"
   ]
  },
  {
   "cell_type": "markdown",
   "id": "51edab9c",
   "metadata": {},
   "source": [
    "**56-Write a Python program to add member(s) to a set."
   ]
  },
  {
   "cell_type": "code",
   "execution_count": 110,
   "id": "2b65df79",
   "metadata": {},
   "outputs": [
    {
     "name": "stdout",
     "output_type": "stream",
     "text": [
      "Add member to set :  {1, 2, 3, 4}\n",
      "Add members to set :  {1, 2, 3, 4, 'E', 'a', 'r', 's'}\n"
     ]
    }
   ],
   "source": [
    "s = {1,2,3}\n",
    "s.add(4)\n",
    "print('Add member to set : ', s)\n",
    "s.update(['E','s','r','a','a'])\n",
    "print('Add members to set : ', s)"
   ]
  },
  {
   "cell_type": "markdown",
   "id": "965590cc",
   "metadata": {},
   "source": [
    "**57-Write a Python program to remove an item from a set if it is present in the set."
   ]
  },
  {
   "cell_type": "code",
   "execution_count": 112,
   "id": "866bab28",
   "metadata": {},
   "outputs": [
    {
     "data": {
      "text/plain": [
       "{1, 2, 3, 4}"
      ]
     },
     "execution_count": 112,
     "metadata": {},
     "output_type": "execute_result"
    }
   ],
   "source": [
    "s = {1,2,3,4,5}\n",
    "item = 5\n",
    "if item in s:\n",
    "    s.remove(item)\n",
    "s"
   ]
  },
  {
   "cell_type": "markdown",
   "id": "2b7cfed1",
   "metadata": {},
   "source": [
    "**58-Write a Python program to create an intersection,union,difference and symmetric difference of sets"
   ]
  },
  {
   "cell_type": "code",
   "execution_count": 113,
   "id": "7f94b7fe",
   "metadata": {},
   "outputs": [
    {
     "name": "stdout",
     "output_type": "stream",
     "text": [
      "{1, 2, 3, 5, 6, 7, 8, 9}\n",
      "{1, 2, 3, 5}\n",
      "{9, 7}\n",
      "{6, 7, 8, 9}\n"
     ]
    }
   ],
   "source": [
    "s1 = {1,3,5,7,2,9}\n",
    "s2 = {1,5,6,8,3,2}\n",
    "print(s1.union(s2))\n",
    "print(s1.intersection(s2))\n",
    "print(s1.difference(s2))\n",
    "print(s1.symmetric_difference(s2))"
   ]
  },
  {
   "cell_type": "markdown",
   "id": "b94931e2",
   "metadata": {},
   "source": [
    "**59-Write a Python program to find the maximum and minimum values in a set"
   ]
  },
  {
   "cell_type": "code",
   "execution_count": 127,
   "id": "203f9600",
   "metadata": {},
   "outputs": [
    {
     "name": "stdout",
     "output_type": "stream",
     "text": [
      "9\n",
      "1\n"
     ]
    }
   ],
   "source": [
    "s = {1,2,4,5,7,8,9}\n",
    "print(max(s))\n",
    "print(min(s))"
   ]
  },
  {
   "cell_type": "markdown",
   "id": "255fd554",
   "metadata": {},
   "source": [
    "**60- Write a Python program that finds all pairs of elements in a list whose sum is equal to a given value."
   ]
  },
  {
   "cell_type": "code",
   "execution_count": 5,
   "id": "c2d94e1f",
   "metadata": {},
   "outputs": [
    {
     "name": "stdout",
     "output_type": "stream",
     "text": [
      "1 4\n",
      "3 2\n"
     ]
    }
   ],
   "source": [
    "l = [1,2,5,8,3,4,9]\n",
    "element = 5\n",
    "for i in l:\n",
    "    for j in l:\n",
    "        if i != j:\n",
    "            if (i+j) == element:\n",
    "                print(i,j)\n",
    "    l.remove(i)"
   ]
  }
 ],
 "metadata": {
  "kernelspec": {
   "display_name": "Python 3 (ipykernel)",
   "language": "python",
   "name": "python3"
  },
  "language_info": {
   "codemirror_mode": {
    "name": "ipython",
    "version": 3
   },
   "file_extension": ".py",
   "mimetype": "text/x-python",
   "name": "python",
   "nbconvert_exporter": "python",
   "pygments_lexer": "ipython3",
   "version": "3.9.7"
  }
 },
 "nbformat": 4,
 "nbformat_minor": 5
}
